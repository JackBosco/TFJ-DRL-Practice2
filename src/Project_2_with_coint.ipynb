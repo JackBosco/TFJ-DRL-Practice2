{
  "nbformat": 4,
  "nbformat_minor": 0,
  "metadata": {
    "kernelspec": {
      "display_name": "Python 3",
      "language": "python",
      "name": "python3"
    },
    "language_info": {
      "codemirror_mode": {
        "name": "ipython",
        "version": 3
      },
      "file_extension": ".py",
      "mimetype": "text/x-python",
      "name": "python",
      "nbconvert_exporter": "python",
      "pygments_lexer": "ipython3",
      "version": "3.7.5"
    },
    "colab": {
      "name": "Project 2 with coint.ipynb",
      "provenance": [],
      "collapsed_sections": []
    },
    "accelerator": "GPU"
  },
  "cells": [
    {
      "cell_type": "code",
      "metadata": {
        "id": "5NUVzBhNeSpP"
      },
      "source": [
        "!pip install yfinance\n",
        "!wget http://prdownloads.sourceforge.net/ta-lib/ta-lib-0.4.0-src.tar.gz\n",
        "!tar -xzvf ta-lib-0.4.0-src.tar.gz\n",
        "%cd ta-lib\n",
        "!./configure --prefix=/usr\n",
        "!make\n",
        "!make install\n",
        "!pip install Ta-Lib"
      ],
      "execution_count": null,
      "outputs": []
    },
    {
      "cell_type": "code",
      "metadata": {
        "colab": {
          "base_uri": "https://localhost:8080/"
        },
        "id": "S_X0tOlZa6Yc",
        "outputId": "8e496cc5-ad4f-46b3-e7d0-208bf7aae41e"
      },
      "source": [
        "import numpy as np\n",
        "import pandas as pd\n",
        "import sys, os\n",
        "import torch\n",
        "from torch import nn\n",
        "from torch import optim\n",
        "from torch.nn import functional as F\n",
        "from torch.utils.data import Dataset, DataLoader\n",
        "import yfinance as yf\n",
        "import torchvision\n",
        "import talib as ta\n",
        "import statsmodels.tsa.stattools as ts\n",
        "import matplotlib.pyplot as plt\n",
        "import matplotlib.image as mpimg\n"
      ],
      "execution_count": null,
      "outputs": [
        {
          "output_type": "stream",
          "text": [
            "/usr/local/lib/python3.7/dist-packages/statsmodels/tools/_testing.py:19: FutureWarning: pandas.util.testing is deprecated. Use the functions in the public API at pandas.testing instead.\n",
            "  import pandas.util.testing as tm\n"
          ],
          "name": "stderr"
        }
      ]
    },
    {
      "cell_type": "code",
      "metadata": {
        "id": "pfkcMQqGa6Yf"
      },
      "source": [
        "#read daily stock data series from yahoo finance\n",
        "def get_data(name, start=\"2017-01-01\", end=\"2020-01-01\"):\n",
        "    ticker = yf.Ticker(name)\n",
        "    data=ticker.history(start=start,  end=end)\n",
        "    return data.drop(['Dividends', 'Stock Splits'], axis=1, errors='ignore')"
      ],
      "execution_count": null,
      "outputs": []
    },
    {
      "cell_type": "code",
      "metadata": {
        "id": "HskUlwhYa6Yf"
      },
      "source": [
        "#Calculate technical analysis indicators into dataset\n",
        "#Can be easily expanded\n",
        "#Currently contains a small set of tech indicators\n",
        "def calc_tech_ind(data):\n",
        "    #overlap \n",
        "    data['upbd'], data['midbd'], data['lowbd'] = ta.BBANDS(data[\"Close\"])\n",
        "    data['dema'] = ta.DEMA(data[\"Close\"], timeperiod=30)\n",
        "    data['tema'] = ta.TEMA(data[\"Close\"], timeperiod=30)\n",
        "    data['ema'] = ta.EMA(data[\"Close\"], timeperiod=30)\n",
        "    data['wma'] = ta.WMA(data[\"Close\"], timeperiod=30)\n",
        "    data['sma'] = ta.SMA(data[\"Close\"], timeperiod=30)\n",
        "    data['sarext'] = ta.SAREXT(data[\"High\"], data[\"Low\"])\n",
        "    \n",
        "    #momentum\n",
        "    data['adxr'] = ta.ADXR(data[\"High\"], data[\"Low\"], data[\"Close\"], timeperiod=14)\n",
        "    data['apo'] = ta.APO(data[\"Close\"], fastperiod=12, slowperiod=26, matype=0)\n",
        "    data['aroondown'], data['aroonup'] = ta.AROON(data[\"High\"], data[\"Low\"], timeperiod=14)\n",
        "    data['cci'] = ta.CCI(data[\"High\"], data[\"Low\"], data[\"Close\"], timeperiod=14)\n",
        "    data['cmo'] = ta.CMO(data[\"Close\"], timeperiod=14)\n",
        "    data['macd'], data['macdsignal'], data['macdhist'] = ta.MACD(data[\"Close\"], fastperiod=12, slowperiod=26, signalperiod=9)\n",
        "    data['MFI'] = ta.MFI(data[\"High\"], data[\"Low\"], data[\"Close\"], data['Volume'], timeperiod=14)\n",
        "    data['mom'] = ta.MOM(data[\"Close\"], timeperiod=10)\n",
        "    data['plus_di'] = ta.PLUS_DI(data[\"High\"], data[\"Low\"], data[\"Close\"], timeperiod=14)\n",
        "    data['ppo'] = ta.PPO(data[\"Close\"], fastperiod=12, slowperiod=26, matype=0)\n",
        "    data['roc'] = ta.ROC(data[\"Close\"], timeperiod=10)\n",
        "    data['rocp'] = ta.ROCP(data[\"Close\"], timeperiod=10)\n",
        "    data['rsi'] = ta.RSI(data[\"Close\"], timeperiod=14)\n",
        "    data['slowk'], data['slowd'] = ta.STOCH(data[\"High\"], data[\"Low\"], data[\"Close\"])\n",
        "    data['fastk'], data['fastd'] = ta.STOCHF(data[\"High\"], data[\"Low\"], data[\"Close\"])\n",
        "    data['trix'] = ta.TRIX(data[\"Close\"], timeperiod=30)\n",
        "    data['ultosc'] = ta.ULTOSC(data[\"High\"], data[\"Low\"], data[\"Close\"], timeperiod1=7, timeperiod2=14, timeperiod3=28)\n",
        "    data['willr'] = ta.WILLR(data[\"High\"], data[\"Low\"], data[\"Close\"], timeperiod=14)\n",
        "    \n",
        "    #volume\n",
        "    data['ad'] = ta.AD(data[\"High\"], data[\"Low\"], data[\"Close\"], data['Volume'])\n",
        "    data['obv'] = ta.OBV(data[\"Close\"], data['Volume'])\n",
        "    \n",
        "    #volitility\n",
        "    data['atr'] = ta.ATR(data[\"High\"], data[\"Low\"], data[\"Close\"], timeperiod=14)\n",
        "    data['natr'] = ta.NATR(data[\"High\"], data[\"Low\"], data[\"Close\"], timeperiod=14)\n",
        "    \n",
        "    #cycle\n",
        "    data['HT_DCPERIOD'] = ta.HT_DCPERIOD(data[\"Close\"])\n",
        "    data['HT_DCPHASE'] = ta.HT_DCPHASE(data[\"Close\"])\n",
        "    data['inphase'], data['quadrature'] = ta.HT_PHASOR(data[\"Close\"])\n",
        "    \n",
        "    \n",
        "    return data"
      ],
      "execution_count": null,
      "outputs": []
    },
    {
      "cell_type": "code",
      "metadata": {
        "id": "TYVqwzgaa6Yg"
      },
      "source": [
        "def get_data_set(name_list, start=\"2017-01-01\", end=\"2020-01-01\"):\n",
        "    data_list=[]\n",
        "    for name in name_list:\n",
        "        data_list.append(calc_tech_ind(get_data(name, start, end)).iloc[90:].fillna(0).values)\n",
        "        \n",
        "    #get number of original\n",
        "    feature_count=data_list[0].shape[1]\n",
        "    #calculate cointegration\n",
        "    for i in range(len(data_list)):\n",
        "        high_correlation_list=[]\n",
        "        for j in range(len(data_list)):\n",
        "            if i != j:\n",
        "                coint=ts.coint(data_list[i][:, 3], data_list[j][:, 3])[1] \n",
        "                if coint <= 0.1:\n",
        "                    high_correlation_list.append(j)\n",
        "        #append features to the end\n",
        "        avg_features=np.zeros((data_list[i].shape[0], data_list[i].shape[1]-4))\n",
        "        for k in high_correlation_list:\n",
        "            feature=data_list[k][:, 4:feature_count]\n",
        "            avg_features+=(feature-feature.mean(axis=0, keepdims=True))/(feature.std(axis=0, keepdims=True))\n",
        "        if avg_features.sum() !=0:\n",
        "            avg_features=avg_features/len(high_correlation_list)\n",
        "        #append to the end\n",
        "        data_list[i]=np.concatenate([data_list[i], avg_features], axis=1)\n",
        "            \n",
        "    return np.array(data_list)"
      ],
      "execution_count": null,
      "outputs": []
    },
    {
      "cell_type": "code",
      "metadata": {
        "id": "LXx5-dmda6Yh"
      },
      "source": [
        "#generate x, y, z, zp quadruples\n",
        "#segment x, y, z trios to sequence according to $timeStep and $gap\n",
        "#x: historical data w/ technical analysis indicator\n",
        "#y: closing price of t+1\n",
        "#z:  difference between t+1 and t step's closing price\n",
        "\n",
        "def toSequential(idx, full_list, timeStep=24, gap=8):\n",
        "    #closing: from id=0 to last\n",
        "    closing=full_list[idx][:, 3]\n",
        "    #data from id=0 to second to last\n",
        "    data=full_list[idx][:-1]\n",
        "    #calculating number of available sequential samples\n",
        "    data_length=len(data)\n",
        "    count=(data_length-timeStep)//gap+1\n",
        "    stockSeq=[]\n",
        "    labelSeq=[]\n",
        "    diffSeq=[]\n",
        "    realDiffSeq=[]\n",
        "    for i in range(count):\n",
        "        #segData dims: [timestep, feature count]\n",
        "        segData=data[gap*i:gap*i+timeStep]\n",
        "        segClosing=closing[gap*i:gap*i+timeStep+1]\n",
        "        #segDiff=diff[gap*i:gap*i+timeStep]\n",
        "        #normalization\n",
        "        segDataNorm=np.nan_to_num((segData-segData.mean(axis=0, keepdims=True))/segData.std(axis=0, keepdims=True))\n",
        "        segClosingNorm=(segClosing-segClosing.mean())/segClosing.std()\n",
        "        #segDiff=(segDiff-segDiff.mean())/segDiff.std()\n",
        "        \n",
        "        stockSeq.append(segDataNorm)\n",
        "        labelSeq.append(segClosingNorm[1:])\n",
        "        diffSeq.append(segClosingNorm[1:]-segClosingNorm[:-1])\n",
        "        realDiffSeq.append(segClosing[1:]-segClosing[:-1])\n",
        "    stockSeq=np.array(stockSeq)\n",
        "    labelSeq=np.array(labelSeq)\n",
        "    diffSeq=np.array(diffSeq)\n",
        "    realDiffSeq=np.array(realDiffSeq)\n",
        "    return stockSeq.astype('float32') , labelSeq.astype('float32'), diffSeq.astype('float32'), realDiffSeq.astype('float32')"
      ],
      "execution_count": null,
      "outputs": []
    },
    {
      "cell_type": "code",
      "metadata": {
        "id": "ugpbAouDa6Yi"
      },
      "source": [
        "#input each step:  vector including [stock info, tech indicators]\n",
        "#output each step: closing price t+1, price diff between t+1 and t\n",
        "#full_list: output from get_data_set\n",
        "\n",
        "class StockDataset(Dataset):\n",
        "    def __init__(self, id_list, full_list, transform=None, timestep=24, gap=8):\n",
        "        self.transform=transform\n",
        "        self.id_list=id_list\n",
        "        \n",
        "        stock_cohort=[]\n",
        "        closing_cohort=[]\n",
        "        diff_cohort=[]\n",
        "        real_diff_cohort=[]\n",
        "        \n",
        "        #load data into cohort\n",
        "        for i in self.id_list:\n",
        "            X, y, z, zp=toSequential(i, full_list, timeStep=timestep, gap=gap)\n",
        "            stock_cohort.append(X)\n",
        "            closing_cohort.append(y)\n",
        "            diff_cohort.append(z)\n",
        "            real_diff_cohort.append(zp)\n",
        "        self.X=np.concatenate(stock_cohort, axis=0)\n",
        "        self.y=np.concatenate(closing_cohort, axis=0)   \n",
        "        self.z=np.concatenate(diff_cohort, axis=0)  \n",
        "        self.zp=np.concatenate(real_diff_cohort, axis=0) \n",
        "        \n",
        "    def __len__(self):\n",
        "        return len(self.y)\n",
        "    \n",
        "    def __getitem__(self, idx):\n",
        "        \"\"\"\n",
        "        data returned in the format of \n",
        "        \"\"\"\n",
        "        if torch.is_tensor(idx):\n",
        "            idx=idx.tolist()\n",
        "        \n",
        "        data=self.X[idx]\n",
        "        label1=self.y[idx]\n",
        "        label2=self.z[idx]\n",
        "        label3=self.zp[idx]\n",
        "        if self.transform:\n",
        "            data=self.transform(data)\n",
        "        return (data, label1, label2, label3)\n",
        "    \n",
        "    \n",
        "    def getDS(self):\n",
        "        return self.X, self.y, self.z, self.zp"
      ],
      "execution_count": null,
      "outputs": []
    },
    {
      "cell_type": "code",
      "metadata": {
        "id": "TBzCQdBka6Yi"
      },
      "source": [
        "#define device\n",
        "def try_gpu(i=0):\n",
        "    \"\"\"Return gpu(i) if exists, otherwise return cpu().\"\"\"\n",
        "    if torch.cuda.device_count() >= i + 1:\n",
        "        return torch.device(f'cuda:{i}')\n",
        "    return torch.device('cpu')"
      ],
      "execution_count": null,
      "outputs": []
    },
    {
      "cell_type": "code",
      "metadata": {
        "id": "Kt9S_tgDa6Yi"
      },
      "source": [
        "#define GRU class\n",
        "#init parameter: env_size for RL algorithm\n",
        "class GRU(nn.Module):\n",
        "    def __init__(self, env_size):\n",
        "        super(GRU, self).__init__()\n",
        "        self.rnn=nn.GRU(\n",
        "            input_size=86,\n",
        "            hidden_size=128,\n",
        "            num_layers=1,\n",
        "            batch_first=True\n",
        "        )\n",
        "        self.linear1=nn.Linear(256, env_size)\n",
        "        self.linear2=nn.Linear(env_size, 1)\n",
        "        self.num_layers=1\n",
        "        \n",
        "    def forward(self, x, state, device):\n",
        "        batch_size,timestep, _=x.shape\n",
        "        states, state=self.rnn(x, state)\n",
        "        tamVec=tam(states, device)\n",
        "        \n",
        "        #concatVec: batch_size, time_step, hidden_size*2\n",
        "        #i.e.       batch_size, 24       , 256        \n",
        "        concatVec=torch.cat([states, tamVec],axis=2)\n",
        "        envVec=self.linear1(torch.tanh(concatVec.reshape(batch_size*timestep, -1)))\n",
        "        output=nn.Dropout(p=0.4)(envVec)\n",
        "        output=nn.ReLU()(output)\n",
        "        output=self.linear2(output)\n",
        "        envVec=envVec.reshape(batch_size, timestep, -1)\n",
        "        output=output.reshape(batch_size, timestep, -1)\n",
        "        return (output.view(batch_size, -1), envVec), state\n",
        "    \n",
        "    def begin_state(self, device, batch_size=1): \n",
        "        # `nn.GRU` takes a tensor as hidden state\n",
        "        return torch.zeros((\n",
        "                    self.rnn.num_layers, batch_size, 128), device=device)"
      ],
      "execution_count": null,
      "outputs": []
    },
    {
      "cell_type": "code",
      "metadata": {
        "id": "cd3QUZKBa6Yj"
      },
      "source": [
        "#temporal attention mechanism calculation\n",
        "def tam(states, device):\n",
        "    \"\"\"\n",
        "    Given $states: batch_size, time_step, hidden_size\n",
        "    return $output states: batch_size, time_step, hidden_size*2\n",
        "    \"\"\"\n",
        "    with torch.no_grad():\n",
        "        b_size, t_step, h_size=states.shape\n",
        "        # $time_step 0 \n",
        "        vec_list=torch.tensor(np.zeros([b_size, 1, h_size]).astype('float32')).to(device)\n",
        "        \n",
        "        #i: time step from 1 to $time_step\n",
        "        for i in range(1,states.shape[1]):\n",
        "            batchedCum=torch.tensor(np.zeros([b_size, 1,1]).astype('float32')).to(device)\n",
        "            batch_list=[]\n",
        "            vec=torch.tensor(np.zeros([b_size, 1, h_size]).astype('float32')).to(device)\n",
        "            for j in range(i):\n",
        "                batched=torch.exp(torch.tanh(torch.bmm(states[:,i:i+1,:], torch.transpose(states[:,j:j+1,:], 1, 2))))\n",
        "                batch_list.append(batched)\n",
        "                batchedCum+=batched\n",
        "            for j in range(i):\n",
        "                vec+=torch.bmm((batch_list[j]/batchedCum), states[:, j:j+1, :])\n",
        "            vec_list=torch.cat([vec_list,vec], axis=1)\n",
        "        #result=torch.cat([states, vec_list],axis=2)\n",
        "    return vec_list\n",
        "        "
      ],
      "execution_count": null,
      "outputs": []
    },
    {
      "cell_type": "code",
      "metadata": {
        "id": "B_gTwzdea6Yj"
      },
      "source": [
        "#input: envs, params\n",
        "#envs: states output by GRU\n",
        "#parameters: params init by get_params()\n",
        "#output: actions from -1 to 1 in shape (`batch_size`, `num_steps`)\n",
        "def rlForwardFunc(envs, params):\n",
        "    # Here `envs` shape: ( `batch_size`, `num_steps`, `envs_size`)\n",
        "    W, b, h = params\n",
        "    outputs = []\n",
        "    tanh=nn.Tanh()\n",
        "    # Shape of `X`: (`batch_size`, `envs_size`)\n",
        "    for i in range(envs.shape[1]):\n",
        "        X = envs[:,i,:]\n",
        "        Y = torch.matmul(X, W) + b\n",
        "        Z1 = tanh(Y)\n",
        "        Z = Z1.clone()\n",
        "        Z=Z.unsqueeze(1)\n",
        "        \n",
        "       \n",
        "        if(i==0):\n",
        "            outputs.append(Z)\n",
        "        else:\n",
        "            Z+=outputs[i-1]* h\n",
        "            outputs.append(Z)\n",
        "    return torch.cat(outputs, dim=1)\n",
        "\n",
        "#RL Policy net modeled by parameters\n",
        "class rlPolicy(nn.Module):\n",
        "    def __init__(self, env_size, device):\n",
        "        super(rlPolicy, self).__init__()\n",
        "        \n",
        "        #self.linear = nn.Linear(32+1, 1)\n",
        "        \n",
        "        W, b, h=get_params(env_size, device)\n",
        "        self.device=device\n",
        "        self.W=nn.Parameter(W)\n",
        "        self.b=nn.Parameter(b)\n",
        "        self.h=nn.Parameter(h)\n",
        "        self.rnn=GRU(env_size)\n",
        "\n",
        "    #predP: prediction of t+1 closing price\n",
        "    #output: actions from -1 to 1 in shape (`batch_size`, `num_steps`)\n",
        "    def forward(self, x, state):    \n",
        "        (predP, envVec), state=self.rnn(x, state, self.device)\n",
        "        output=rlForwardFunc(envVec, [self.W, self.b, self.h])\n",
        "        #predP: price prediction of t+1, output: (batch, timestep) of actions\n",
        "        return predP, output\n",
        "    \n",
        "    def begin_state(self, device, batch_size=1): \n",
        "        # `nn.GRU` takes a tensor as hidden state\n",
        "        return self.rnn.begin_state(device, batch_size)"
      ],
      "execution_count": null,
      "outputs": []
    },
    {
      "cell_type": "code",
      "metadata": {
        "id": "CXqT4Xg3a6Yk"
      },
      "source": [
        "#Customly initiate parameters for RL model\n",
        "def get_params(env_size, device):\n",
        "    num_inputs = env_size\n",
        "\n",
        "    def normal(shape):\n",
        "        return torch.randn(size=shape, device=device) * 0.03\n",
        "\n",
        "    W = normal((num_inputs, ))\n",
        "    b = torch.zeros(1, device=device)\n",
        "    h = torch.randn(1, device=device) * 0.01\n",
        "    # Output layer parameters\n",
        "    # Attach gradients\n",
        "#     params = [W, b, h]\n",
        "#     for param in params:\n",
        "#         param.requires_grad_(True)\n",
        "#         param=nn.Parameter(param)\n",
        "    W.requires_grad_(True)\n",
        "    b.requires_grad_(True)\n",
        "    h.requires_grad_(True)\n",
        "    return W, b, h"
      ],
      "execution_count": null,
      "outputs": []
    },
    {
      "cell_type": "code",
      "metadata": {
        "id": "P2NDmOjOa6Yk"
      },
      "source": [
        "#Calculate Utility based on policy Output\n",
        "#z: z from dataset\n",
        "#c: transaction cost\n",
        "def calcUtility(policyOutput, z, c=0.0001):\n",
        "  #with torch.no_grad():\n",
        "    discretize=policyOutput.detach()\n",
        "    discretize=(discretize>=0)*2-1\n",
        "    preAction=torch.cat([discretize[:,0:1], discretize[:, :-1]], dim=1)\n",
        "    #net income R\n",
        "    R=z*discretize-c*((discretize-preAction)!=0)\n",
        "    U=[]\n",
        "    for i in range(R.shape[1]):\n",
        "        if(i==0):\n",
        "            u=R[:,i:i+1]\n",
        "        else:\n",
        "            u=R[:,i:i+1]+U[i-1]\n",
        "        U.append(u)\n",
        "    U=torch.cat(U, dim=1)\n",
        "    return U, preAction"
      ],
      "execution_count": null,
      "outputs": []
    },
    {
      "cell_type": "code",
      "metadata": {
        "id": "HVHG_bRUa6Yk"
      },
      "source": [
        "#Prevent exploding gradient\n",
        "def grad_clipping(net, theta): \n",
        "    \"\"\"Clip the gradient.\"\"\"\n",
        "    if isinstance(net, nn.Module):\n",
        "        params = [p for p in net.parameters() if p.requires_grad]\n",
        "    else:\n",
        "        params = net.params\n",
        "    norm = torch.sqrt(sum(torch.sum((p.grad ** 2)) for p in params))\n",
        "    if norm > theta:\n",
        "        for param in params:\n",
        "            param.grad[:] *= theta / norm"
      ],
      "execution_count": null,
      "outputs": []
    },
    {
      "cell_type": "code",
      "metadata": {
        "id": "NHx3WV0Ta6Yl"
      },
      "source": [
        "#model weight initialization\n",
        "def init_weights(m):\n",
        "    if type(m) == nn.Linear or type(m) == nn.Conv2d:\n",
        "        torch.nn.init.xavier_normal_(m.weight)\n",
        "        m.bias.data.normal_(0.0,0.01)"
      ],
      "execution_count": null,
      "outputs": []
    },
    {
      "cell_type": "code",
      "metadata": {
        "id": "0h436dd-a6Yl"
      },
      "source": [
        "#Loss function defined by paper\n",
        "def lossFunc(predP, y, policyOutput, z, device):\n",
        "    #MSE\n",
        "    term1=nn.MSELoss()(predP, y)\n",
        "    #RL\n",
        "    U, preAction=calcUtility(policyOutput, z)\n",
        "    U_detach=U.detach()\n",
        "    actionProb=(torch.tensor(1).to(device)+policyOutput)/torch.tensor(2)\n",
        "    plusMinus=(preAction<0)*1\n",
        "    term2=-torch.log(1*plusMinus+((-1)**plusMinus)*actionProb)*U_detach\n",
        "    return term2.mean()+term1"
      ],
      "execution_count": null,
      "outputs": []
    },
    {
      "cell_type": "code",
      "metadata": {
        "id": "RMgC-Ljmn50s"
      },
      "source": [
        "#greedy loss function\n",
        "def lossFunc2(predP, y, policyOutput, z, device):\n",
        "    #MSE\n",
        "    term1=nn.MSELoss()(predP, y)\n",
        "    #RL\n",
        "    greedyAction=(z>=0.01)*2.0-1.0\n",
        "    U, preAction=calcUtility(policyOutput, z)\n",
        "    U_detach=U.detach()\n",
        "    actionProb=(torch.tensor(1).to(device)+policyOutput)/torch.tensor(2)\n",
        "    plusMinus=(preAction<0)*1\n",
        "    term2=(torch.log(1*plusMinus+((-1)**plusMinus)*actionProb)*U_detach).mean()\n",
        "    term3=nn.MSELoss()(policyOutput, greedyAction)\n",
        "    return term3+term2+term1"
      ],
      "execution_count": null,
      "outputs": []
    },
    {
      "cell_type": "code",
      "metadata": {
        "id": "ly7ecW78a6Yl"
      },
      "source": [
        "#trainer for epoch\n",
        "def train_epoch(net, train_iter, device, optimizer):\n",
        "    loss_data=[]\n",
        "    with torch.autograd.set_detect_anomaly(True):\n",
        "        for X, y, z, _ in train_iter:\n",
        "            #reset state for each batch\n",
        "            state=net.begin_state(batch_size=X.shape[0], device=device)\n",
        "        \n",
        "            #move to device\n",
        "            X, y, z=X.to(device), y.to(device), z.to(device)\n",
        "            predP, output=net(X, state)\n",
        "            loss=lossFunc2(predP, y, output,z, device)\n",
        "            optimizer.zero_grad()\n",
        "            loss.backward()\n",
        "            grad_clipping(net, 1)\n",
        "            optimizer.step()\n",
        "            loss_data.append(loss.item())\n",
        "    return np.array(loss_data).mean(), loss_data"
      ],
      "execution_count": null,
      "outputs": []
    },
    {
      "cell_type": "code",
      "metadata": {
        "id": "39OBubURa6Ym"
      },
      "source": [
        "#Testing on trained model\n",
        "def prediction(net, eval_iter, device):\n",
        "    net.eval()\n",
        "    loss_list=[]\n",
        "    U_list=[]\n",
        "    with torch.no_grad():\n",
        "        for X, y, z, _ in eval_iter:\n",
        "            X, y, z = X.to(device), y.to(device), z.to(device)\n",
        "            state=net.begin_state(batch_size=X.shape[0], device=device)\n",
        "            predP, output=net(X, state)\n",
        "            loss=lossFunc2(predP, y, output, z, device)\n",
        "            U, _=calcUtility(output, z)\n",
        "            loss_list.append(loss.cpu().numpy())\n",
        "            U_list.append(U[:, -1].mean().cpu().numpy())\n",
        "    return np.array(loss_list).mean(), np.array(U_list).mean()"
      ],
      "execution_count": null,
      "outputs": []
    },
    {
      "cell_type": "code",
      "metadata": {
        "id": "4zTVLtNGa6Yl"
      },
      "source": [
        "#Trainer \n",
        "#Incoporated learning rate scheduler\n",
        "#Avg training loss & Avg validation Utility gain is recorded on epoch basis\n",
        "#Loss and Utility by epoch are plotted at the end of training\n",
        "def train(net, train_iter, eval_iter, optimizer, device, num_epoch, name):\n",
        "    loss_data=[]\n",
        "    U_data=[]\n",
        "    net.apply(init_weights)\n",
        "    net.to(device)\n",
        "    scheduler = optim.lr_scheduler.ExponentialLR(optimizer, 0.95, last_epoch=-1)\n",
        "    \n",
        "    for epoch in range(num_epoch):\n",
        "        net.train()\n",
        "        lossEpoch, lossEpoch_list=train_epoch(net, train_iter, device, optimizer)   \n",
        "        loss_v, U_v=prediction(net, eval_iter, device)\n",
        "        loss_data.append(lossEpoch)  \n",
        "        U_data.append(U_v)\n",
        "        print(f'Epoch {epoch}, training loss: {lossEpoch:.2f}, val utility: {U_v:.2f}')\n",
        "        torch.save(net.state_dict(), os.path.join('./model_weights', f'{name}-epoch-{epoch}.pth'))\n",
        "        scheduler.step()\n",
        "    \n",
        "    #plot loss & Utility\n",
        "    fig, ax_left = plt.subplots()\n",
        "    ax_right = ax_left.twinx()\n",
        "    ax_left.plot(loss_data, label = \"Loss\", color='blue')\n",
        "    ax_right.plot(U_data, label = \"Utility\", color='red')\n",
        "    ax_left.set_xlabel('Time Step')\n",
        "    ax_right.set_ylabel('Loss y axis')\n",
        "    ax_right.set_ylabel('Utility y axis')\n",
        "    ax_left.set_title('Loss and Utility')\n",
        "    ax_left.legend()\n",
        "    ax_right.legend()\n",
        "    return loss_data"
      ],
      "execution_count": null,
      "outputs": []
    },
    {
      "cell_type": "code",
      "metadata": {
        "id": "qDQ2atIPa6Ym"
      },
      "source": [
        "#Generation of training, validation, and testing dataset\n",
        "def DataIterGen(test_id_list, val_id_list, name_list, full_list, demo=False):\n",
        "    \"\"\"\n",
        "    test_id_list: id of subjects for testing\n",
        "    val_id_list: id of subjects for validation\n",
        "    other subjects for training\n",
        "    full_list=get_data_set(name_list), preprocessed\n",
        "    demo: when demo mode is True, only test_iter is returned, with data from\n",
        "    first entry of test_id_list (single stock)\n",
        "    \"\"\"\n",
        "    name_count=len(name_list)\n",
        "\n",
        "    if demo:\n",
        "      test_iter=DataLoader(StockDataset(test_id_list[0:1], full_list, timestep=24, gap=1), shuffle=False, batch_size=64, num_workers=0)\n",
        "      print(f'Demo with stock: {name_list[test_id_list[0]]} ')\n",
        "      return test_iter\n",
        "    else:\n",
        "      train_list=set(name_list)-set([name_list[i] for i in test_id_list])-set([name_list[i] for i in val_id_list])\n",
        "      train_count=len(train_list)\n",
        "      partial_list=get_data_set(train_list)\n",
        "      test_iter=DataLoader(StockDataset(test_id_list, full_list), batch_size=32, num_workers=0)\n",
        "      val_iter=DataLoader(StockDataset(val_id_list, full_list), batch_size=32, num_workers=0)\n",
        "      train_iter=DataLoader(StockDataset(list(range(train_count)), partial_list), shuffle=True, batch_size=32, num_workers=0)\n",
        "      print(f'Val: {[name_list[val_id] for val_id in val_id_list]}, Test: {[name_list[test_id] for test_id in test_id_list]}, Train: {train_list} ')\n",
        "      return train_iter, val_iter, test_iter"
      ],
      "execution_count": null,
      "outputs": []
    },
    {
      "cell_type": "code",
      "metadata": {
        "id": "NKzxSmYohHkA"
      },
      "source": [
        "def test(net, test_iter, device, epoch, name):\n",
        "    net.eval()\n",
        "    net.load_state_dict(torch.load(os.path.join('./model_weights', f'{name}-epoch-{epoch}.pth')))\n",
        "    device=try_gpu()\n",
        "    net.to(device)\n",
        "    U_list=[]\n",
        "    with torch.no_grad():\n",
        "        for X, _, _, zp in test_iter:\n",
        "            X, zp = X.to(device),  zp.to(device)\n",
        "            state=net.begin_state(batch_size=X.shape[0], device=device)\n",
        "            predP, output=net(X, state)\n",
        "            U, _=calcUtility(output, zp)\n",
        "            U_list.append(U[:, -1].mean().cpu().numpy())\n",
        "    return np.array(U_list).mean()"
      ],
      "execution_count": null,
      "outputs": []
    },
    {
      "cell_type": "code",
      "metadata": {
        "id": "xwNddm681EtG"
      },
      "source": [
        "def demo(net, demo_iter, device, epoch, name):\n",
        "    net.eval()\n",
        "    net.load_state_dict(torch.load(os.path.join('./model_weights', f'{name}-epoch-{epoch}.pth')))\n",
        "    device=try_gpu()\n",
        "    net.to(device)\n",
        "    reward=np.array([])\n",
        "    with torch.no_grad():\n",
        "        for X, _, _, zp in demo_iter:\n",
        "          X, zp = X.to(device),  zp.to(device)\n",
        "          state=net.begin_state(batch_size=X.shape[0], device=device)\n",
        "          predP, output=net(X, state)\n",
        "          discretizedAction=((output>=0)*2-1)\n",
        "          batchReward=discretizedAction*zp\n",
        "          reward=np.concatenate((reward,batchReward[:,-1].reshape(-1).cpu().numpy()))\n",
        "        result = [sum(reward[ : i + 1]) for i in range(len(reward))] \n",
        "    fig, ax_left = plt.subplots(figsize=(20,4))\n",
        "    ax_left.plot(result, label = \"Stock Gain\", color='blue')\n",
        "    ax_left.set_xlabel('Time Step')\n",
        "    ax_left.set_ylabel('Cumulative Gain')\n",
        "    ax_left.set_title('Demonstration of Algorithm')\n",
        "    ax_left.legend()\n",
        "    return "
      ],
      "execution_count": null,
      "outputs": []
    },
    {
      "cell_type": "code",
      "metadata": {
        "id": "NYnErDKxa6Ym"
      },
      "source": [
        "#Data Generation\n",
        "\n",
        "stockList1=['COO','COF','ABBV','CCL','AMD','GOOG',\n",
        "            'ABMD','ABT','ACN','ADBE','AES','NVDA',\n",
        "            'AIG','ALL', 'AMG','AMZN','APA','AAPL',\n",
        "            'ATVI','AXP','BA','BBY','CAT','GE',\n",
        "            'CSCO', 'DRE','EA','EQR','FCX','FE',\n",
        "            'HST','IBM','INTC','JCI','MMM','MO',\n",
        "            'ORCL','PPL','T','EXPD','VMC','VNO']\n",
        "full_list=get_data_set(stockList1)"
      ],
      "execution_count": 73,
      "outputs": []
    },
    {
      "cell_type": "code",
      "metadata": {
        "colab": {
          "base_uri": "https://localhost:8080/"
        },
        "id": "dGTkYXk8uXRn",
        "outputId": "3599f841-a05b-4257-e0e7-dd64f6dc95dd"
      },
      "source": [
        "train_iter, val_iter, test_iter=DataIterGen([0,1],[2,3,4], stockList1, full_list)"
      ],
      "execution_count": 74,
      "outputs": [
        {
          "output_type": "stream",
          "text": [
            "/usr/local/lib/python3.7/dist-packages/ipykernel_launcher.py:25: RuntimeWarning: invalid value encountered in true_divide\n"
          ],
          "name": "stderr"
        },
        {
          "output_type": "stream",
          "text": [
            "Val: ['ABBV', 'CCL', 'AMD'], Test: ['COO', 'COF'], Train: {'ABMD', 'INTC', 'GOOG', 'EQR', 'ALL', 'FE', 'ORCL', 'ADBE', 'ATVI', 'DRE', 'EA', 'AMZN', 'ACN', 'AMG', 'HST', 'NVDA', 'CSCO', 'BA', 'GE', 'AIG', 'T', 'VNO', 'APA', 'CAT', 'AES', 'FCX', 'BBY', 'JCI', 'MMM', 'AXP', 'MO', 'ABT', 'VMC', 'IBM', 'EXPD', 'AAPL', 'PPL'} \n"
          ],
          "name": "stdout"
        }
      ]
    },
    {
      "cell_type": "code",
      "metadata": {
        "colab": {
          "base_uri": "https://localhost:8080/",
          "height": 567
        },
        "id": "B0MPDbw1a6Yn",
        "outputId": "6cc674ae-9fcb-47d3-a3dd-f73fe407c4a1"
      },
      "source": [
        "#Training in action\n",
        "%mkdir model_weights\n",
        "device=try_gpu()\n",
        "net=rlPolicy(128, device)\n",
        "optim1 = optim.Adam(net.parameters(), lr=0.00006, weight_decay=0.01)\n",
        "loss=train(net, train_iter, val_iter, optim1, device, 15, 'DLRL')"
      ],
      "execution_count": 76,
      "outputs": [
        {
          "output_type": "stream",
          "text": [
            "mkdir: cannot create directory ‘model_weights’: File exists\n",
            "Epoch 0, training loss: 0.89, val utility: 2.33\n",
            "Epoch 1, training loss: 0.49, val utility: 2.28\n",
            "Epoch 2, training loss: 0.37, val utility: 2.50\n",
            "Epoch 3, training loss: 0.31, val utility: 2.91\n",
            "Epoch 4, training loss: 0.24, val utility: 2.93\n",
            "Epoch 5, training loss: 0.20, val utility: 2.71\n",
            "Epoch 6, training loss: 0.18, val utility: 3.06\n",
            "Epoch 7, training loss: 0.17, val utility: 3.04\n",
            "Epoch 8, training loss: 0.15, val utility: 3.08\n",
            "Epoch 9, training loss: 0.15, val utility: 2.86\n",
            "Epoch 10, training loss: 0.13, val utility: 2.96\n",
            "Epoch 11, training loss: 0.13, val utility: 2.85\n",
            "Epoch 12, training loss: 0.10, val utility: 2.83\n",
            "Epoch 13, training loss: 0.10, val utility: 2.85\n",
            "Epoch 14, training loss: 0.05, val utility: 2.75\n"
          ],
          "name": "stdout"
        },
        {
          "output_type": "display_data",
          "data": {
            "image/png": "[encoded data removed]",
            "text/plain": [
              "<Figure size 432x288 with 2 Axes>"
            ]
          },
          "metadata": {
            "tags": [],
            "needs_background": "light"
          }
        }
      ]
    },
    {
      "cell_type": "code",
      "metadata": {
        "colab": {
          "base_uri": "https://localhost:8080/"
        },
        "id": "lg5BLWG3BZa0",
        "outputId": "f3b8e4df-2e3c-4c96-8501-4684442bb798"
      },
      "source": [
        "avgReturn=test(net, test_iter, device, 8, 'DLRL')\n",
        "print(f'On average, every 24 days the algorithm yields:{avgReturn}' )"
      ],
      "execution_count": 77,
      "outputs": [
        {
          "output_type": "stream",
          "text": [
            "On average, every 24 days the algorithm yields:14.433245658874512\n"
          ],
          "name": "stdout"
        }
      ]
    },
    {
      "cell_type": "code",
      "metadata": {
        "id": "OANMLYsFmGmS",
        "colab": {
          "base_uri": "https://localhost:8080/",
          "height": 312
        },
        "outputId": "90046830-49db-4d44-96e2-7d0a9765f546"
      },
      "source": [
        "demo_iter=DataIterGen([1],[], stockList1,full_list, demo=True)\n",
        "demo(net, demo_iter , device, 9, 'DLRL')"
      ],
      "execution_count": null,
      "outputs": [
        {
          "output_type": "stream",
          "text": [
            "Demo with stock: COF \n"
          ],
          "name": "stdout"
        },
        {
          "output_type": "display_data",
          "data": {
            "image/png": "[encoded data removed]",
            "text/plain": [
              "<Figure size 1440x288 with 1 Axes>"
            ]
          },
          "metadata": {
            "tags": [],
            "needs_background": "light"
          }
        }
      ]
    },
    {
      "cell_type": "code",
      "metadata": {
        "id": "rNSspSTE_W26",
        "colab": {
          "base_uri": "https://localhost:8080/",
          "height": 312
        },
        "outputId": "5559bf5a-3627-450b-ace2-4f1b2d52316a"
      },
      "source": [
        "demo_iter=DataIterGen([0],[], stockList1,full_list, demo=True)\n",
        "demo(net, demo_iter , device, 8, 'DLRL')"
      ],
      "execution_count": 79,
      "outputs": [
        {
          "output_type": "stream",
          "text": [
            "Demo with stock: COO \n"
          ],
          "name": "stdout"
        },
        {
          "output_type": "display_data",
          "data": {
            "image/png": "[encoded data removed]",
            "text/plain": [
              "<Figure size 1440x288 with 1 Axes>"
            ]
          },
          "metadata": {
            "tags": [],
            "needs_background": "light"
          }
        }
      ]
    }
  ]
}